{
  "nbformat": 4,
  "nbformat_minor": 0,
  "metadata": {
    "colab": {
      "provenance": [],
      "collapsed_sections": []
    },
    "kernelspec": {
      "name": "python3",
      "display_name": "Python 3"
    }
  },
  "cells": [
    {
      "cell_type": "markdown",
      "metadata": {
        "id": "JD9gUM7WW8iT"
      },
      "source": [
        "# Homework 1 - Practicing Python\n",
        "\n",
        "\n",
        "*In the first homework, you are going to work on a set of Python exercises.*\n",
        "\n",
        "**Submission Instructions**\n",
        "\n",
        "---\n",
        "It is important that you follow the submission instructions. \n",
        "1. Copy this assignment notebook to your Drive. <font color = 'red'> `File` --> `Save a copy in Drive`</font>. Rename it as <font color = 'green'>`Lastname_Firstname_hw1`</font>.\n",
        "\n",
        "2. Write your solutions in the cells  marked <font color = 'green'>`# your code`</font>.\n",
        "\n",
        "3. Do not delete your outputs. They are essential for the grading. Make sure that cells containing your solutions are executed, and the results are displayed on the notebook.\n",
        "\n",
        "4. When you're done please submit your solutions as an <font color=\"red\">`.ipynb`</font> file. To do so:\n",
        "\n",
        "\n",
        "  a. Click on <font color=\"red\">`File`</font>  at the top left on the Colab screen, then click on <font color = 'red'>`Download .ipynb`</font>.\n",
        "\n",
        "  b. Then submit the downloaded <font color=\"red\">`.ipynb`</font> version of your work on SUCourse.\n",
        "\n",
        "\n",
        "For any question, you may send an email to the TAs and LAs.\n",
        "\n",
        "---\n",
        "\n",
        "**Important Note:**   \n",
        "In this homework, you do not need to use any libraries than the built-in ones. Hence, you are not allowed to use any libraries, other than the [`pprint`](https://docs.python.org/3/library/pprint.html) library to produce better looking outputs. If you have doubt on what to use what not to use please ask your question in the SuCourse Homework Q&A forum."
      ]
    },
    {
      "cell_type": "markdown",
      "metadata": {
        "id": "rYfw-eaiBOBJ"
      },
      "source": [
        "## 15 points - Q1: Find the E-mail, Given the TA\n",
        "\n",
        "In the cell below, you have two dictionaries. First dictionary containes the TA names as their keys, and their surnames as the values in the dictionary. Second dictionary holds the e-mail addresses for each TA.\n",
        "\n",
        "Here, your goal is to write a fuction named `print_TAs_info` that will return the name, surname and the email information. Example output is as follows:\n",
        "\n",
        "\n",
        "```py\n",
        ">>> print_TAs_info(ta_names_surnames,ta_mails)\n",
        "Deren Ege Turan derenege@sabanciuniv.edu\n",
        "Vahid Khalili Param vahid.khalili@sabanciuniv.edu\n",
        "Mert Pekey mpekey@sabanciuniv.edu\n",
        "```"
      ]
    },
    {
      "cell_type": "code",
      "metadata": {
        "id": "_RCO6nIyEpv1"
      },
      "source": [
        "ta_names_surnames = {'Deren Ege': 'Turan', 'Vahid Khalili': 'Param', 'Mert': 'Pekey'}\n",
        "ta_mails = {'Deren Ege': 'derenege@sabanciuniv.edu', 'Vahid Khalili': 'vahid.khalili@sabanciuniv.edu', 'Mert': 'mpekey@sabanciuniv.edu'}\n"
      ],
      "execution_count": 41,
      "outputs": []
    },
    {
      "cell_type": "code",
      "metadata": {
        "id": "VsigiNj3FzgF",
        "colab": {
          "base_uri": "https://localhost:8080/"
        },
        "outputId": "dd13b2a8-00f8-46fc-f06d-1f58837f7e18"
      },
      "source": [
        "def print_TAs_info(surname, mail):\n",
        "  nameList = []\n",
        "  surnameList = []\n",
        "  mailList = []\n",
        "  finalList = []\n",
        "  for key in surname:\n",
        "    nameList.append(key)\n",
        "    surnameList.append(surname[key])\n",
        "    mailList.append(mail[key])\n",
        "\n",
        "  ctr = 0;\n",
        "  while (ctr < len(nameList)):\n",
        "    finalString = nameList[ctr] + ' ' + surnameList[ctr] + ' ' + mailList[ctr]\n",
        "    finalList.append(finalString)\n",
        "    ctr +=1\n",
        "\n",
        "  return finalList\n",
        "\n",
        "ctr2 = 0\n",
        "answer = print_TAs_info(ta_names_surnames, ta_mails)\n",
        "while (ctr2 < len(ta_names_surnames)):\n",
        "  print(answer[ctr2])\n",
        "  ctr2 +=1\n"
      ],
      "execution_count": 42,
      "outputs": [
        {
          "output_type": "stream",
          "name": "stdout",
          "text": [
            "Deren Ege Turan derenege@sabanciuniv.edu\n",
            "Vahid Khalili Param vahid.khalili@sabanciuniv.edu\n",
            "Mert Pekey mpekey@sabanciuniv.edu\n"
          ]
        }
      ]
    },
    {
      "cell_type": "markdown",
      "metadata": {
        "id": "DwskSV1dAeoR"
      },
      "source": [
        "## 30 points - Q2: Inflation Rates\n",
        "\n",
        "Inflation rates measured by consumer price index for USA were taken from:\n",
        "https://www.kaggle.com/datasets/varpit94/us-inflation-data-updated-till-may-2021?resource=download\n",
        "\n",
        "Each line stores the month of the year, related consumer price index, seperated by a **comma**.\n",
        "\n",
        "In total, we have 1303 lines where the inflation rates are given monthly for years between 1913 and 2021.\n",
        "\n",
        "<a href=\"https://imgbb.com/\"><img src=\"https://i.ibb.co/hM5LGd9/inf-example.png\" alt=\"inf-example\" border=\"0\"></a>\n",
        "\n",
        "*Do not forget to add the shared file and then mount to your drive. Otherwise, you won't be able to read the file. If you do not know how, please go back to Week 1 recitation materials.*\n",
        "\n",
        "**Attention: You may want to transform the string to numbers by using float() function**"
      ]
    },
    {
      "cell_type": "markdown",
      "metadata": {
        "id": "EJdIEenmj6W_"
      },
      "source": [
        "### 15 points - **Part A**\n",
        "In this part, you should find the **maximum inflation rate change** between consecutive months by using the us_inf.csv file under assignment folder.\n",
        "\n",
        "At the end, the signature should have the similar signature as follows:\n",
        "\n",
        "```py\n",
        "Maximum inflation rate change is 5.882352941176478 between the dates: 01-06-1946 - 01-07-1946\n",
        "```\n",
        "\n",
        "\n",
        "\n"
      ]
    },
    {
      "cell_type": "code",
      "metadata": {
        "id": "tbaryKClTz5Z",
        "colab": {
          "base_uri": "https://localhost:8080/"
        },
        "outputId": "65f8b34d-a492-43e6-cd15-94c83afbe06d"
      },
      "source": [
        "from google.colab import drive\n",
        "drive.mount(\"./drive/\", force_remount=True)"
      ],
      "execution_count": 43,
      "outputs": [
        {
          "output_type": "stream",
          "name": "stdout",
          "text": [
            "Mounted at ./drive/\n"
          ]
        }
      ]
    },
    {
      "cell_type": "code",
      "metadata": {
        "id": "NnRDeA3_SPi0",
        "colab": {
          "base_uri": "https://localhost:8080/"
        },
        "outputId": "61b1ee38-88f8-4b02-caf4-82fea4733750"
      },
      "source": [
        "# your code\n",
        "from os.path import join\n",
        "pathPrefix = \"./drive/My Drive/\"\n",
        "fileName = \"us_inf.csv\"\n",
        "\n",
        "maxDates1 = \" \"\n",
        "maxDates2 = \" \"\n",
        "maxRates = -1.1\n",
        "\n",
        "latestDate = \" \"\n",
        "latestRate = 0.0\n",
        "\n",
        "\n",
        "\n",
        "\n",
        "with open(join(pathPrefix,fileName)) as myFile:\n",
        "\n",
        "\n",
        "  firstLine = myFile.readline().strip()\n",
        "  firstSeperated = firstLine.split(\",\")\n",
        "  latestDate = firstSeperated[0]\n",
        "  latestRate = float(firstSeperated[1])\n",
        "\n",
        "  for line in myFile:\n",
        "    seperated = line.strip().split(\",\")\n",
        "    currentDate = seperated[0]\n",
        "    currentRate = float(seperated[1])\n",
        "    if (((currentRate-latestRate)/latestRate)*100 > maxRates):\n",
        "      maxRates = ((currentRate-latestRate)/latestRate)*100\n",
        "      maxDates1 = latestDate\n",
        "      maxDates2 = currentDate\n",
        "    latestDate = seperated[0]\n",
        "    latestRate = float(seperated[1])\n",
        "\n",
        "print(\"Maximum inflation rate change is\", maxRates, \"between the dates\", maxDates1 ,  \"-\", maxDates2)\n",
        "\n"
      ],
      "execution_count": 44,
      "outputs": [
        {
          "output_type": "stream",
          "name": "stdout",
          "text": [
            "Maximum inflation rate change is 5.882352941176478 between the dates 01-06-1946 - 01-07-1946\n"
          ]
        }
      ]
    },
    {
      "cell_type": "markdown",
      "metadata": {
        "id": "pIBUWMoXSSwr"
      },
      "source": [
        "### 15 points - **Part B**\n",
        "\n",
        "Find the mean of changes of the inflation rates in USA between the consecutive dates.\n",
        "\n",
        "Expected output is as follows:\n",
        "\n",
        "```py\n",
        "Mean of changes of the inflation rates is: 0.20199769762087488\n",
        "```\n"
      ]
    },
    {
      "cell_type": "code",
      "metadata": {
        "id": "laBFy2HkSXpC",
        "colab": {
          "base_uri": "https://localhost:8080/"
        },
        "outputId": "bdd1b4c3-3297-4738-84b7-53844f306977"
      },
      "source": [
        "# your code\n",
        "from os.path import join\n",
        "pathPrefix = \"./drive/My Drive/\"\n",
        "fileName = \"us_inf.csv\"\n",
        "\n",
        "counter = 1.0\n",
        "totalChange = 0.0\n",
        "\n",
        "with open(join(pathPrefix,fileName)) as myFile:\n",
        "  firstLine = myFile.readline().strip()\n",
        "  firstSeperated = firstLine.split(\",\")\n",
        "  latestRate = float(firstSeperated[1])\n",
        "  for line in myFile:\n",
        "    seperated = line.strip().split(\",\")\n",
        "    counter = counter + 1\n",
        "    currentRate = float(seperated[1])\n",
        "    totalChange = totalChange + (currentRate-latestRate)\n",
        "    latestRate = float(seperated[1])\n",
        "\n",
        "print(totalChange/counter)\n",
        "\n"
      ],
      "execution_count": 45,
      "outputs": [
        {
          "output_type": "stream",
          "name": "stdout",
          "text": [
            "0.20199769762087488\n"
          ]
        }
      ]
    },
    {
      "cell_type": "markdown",
      "metadata": {
        "id": "srIzF7eJYUAW"
      },
      "source": [
        "## 25 points - Q3: Matrix Multiplication \n",
        "\n",
        "List/array reshaping is one of the most fundamental operations in data manipulation. In the figure below, you see a 4x3 dimensional list of lists (a list that contains lists) named `a` that has integers from 1 to 12. We can take another matrix `b` of the form 3x2 dimensional list of lists and multiply them and create a new list of list of size 4x2. \n",
        "\n",
        "![](https://i.ibb.co/hHWcdBQ/mm-drawio-nt3.png)\n",
        "\n",
        "By referencing the figure above, write a function named `matrix_multiplication` which will find the multiplication of the given two matrices. At the end, it should return the resulting matrix.\n",
        "\n",
        "```py\n",
        ">>> a = [[1,2],\n",
        "         [3,4],\n",
        "         [5,6],\n",
        "         [7,8]]\n",
        ">>> b = [[9,10,11],\n",
        "         [12,13,14]]\n",
        ">>> matrix_multiplication(a,b)\n",
        "33\t36\t39\t\n",
        "75\t82\t89\t\n",
        "117\t128\t139\t\n",
        "159\t174\t189\n",
        "```\n",
        "\n",
        "If the given list of lists do not represent a proper matrix (e.g., [[1,2], [3,4,5]] then, it should print \"Not a proper matrix\" and return None, if the number of columns of the first matrix is not equal to the number of the rows of the second matrix, it should again prints \"Not suitable for multiplication\" and return None. \n",
        "\n",
        "```py\n",
        ">>> a = [[1, 2, 3], [5, 6]]\n",
        ">>> b = [[1, 2, 3], [4, 5, 6]]\n",
        ">>> matrix_multiplication(x,y)\n",
        "\"Not a proper matrix\"\n",
        "\n",
        ">>> a = [[1, 2, 3], [4, 5, 6]]\n",
        ">>> b = [[1, 2, 3], [4, 5, 6]]\n",
        ">>> matrix_multiplication(arr)\n",
        "\"Not suitable for multiplication\"\n",
        "```"
      ]
    },
    {
      "cell_type": "code",
      "metadata": {
        "id": "iZgKbmvbZM61"
      },
      "source": [
        "# 4x2 matrix\n",
        "a = [[1, 2],\n",
        "     [3, 4],\n",
        "     [5, 6],\n",
        "     [7, 8]]\n",
        "# 2x3 matrix\n",
        "b = [[9,10,11],\n",
        "     [12,13,14]]\n",
        "# result is 4x3\n"
      ],
      "execution_count": 46,
      "outputs": []
    },
    {
      "cell_type": "code",
      "source": [
        "# your code\n",
        "def matrix_multiplication(lhs,rhs):\n",
        "\n",
        "  lhsColSize = len(lhs[0]);\n",
        "\n",
        "  for i in lhs:\n",
        "    if (len(i) != lhsColSize):\n",
        "      print(\"Not a proper matrix\")\n",
        "      return None\n",
        "\n",
        "  if (lhsColSize!=len(rhs)):\n",
        "    print(\"Not suitable for multiplication\")\n",
        "    return None\n",
        "\n",
        "  resultMatrix = []\n",
        "  \n",
        "  for lhsRows in lhs:\n",
        "    resultRows = []\n",
        "    for rhsCols in range (len(rhs[0])):\n",
        "      t = 0\n",
        "      for rhsRows in range (len(rhs)):\n",
        "        t += lhsRows[rhsRows]*rhs[rhsRows][rhsCols]\n",
        "      resultRows.append(t)\n",
        "    resultMatrix.append(resultRows)\n",
        "  \n",
        "  return resultMatrix\n",
        "\n",
        "matrix_multiplication(a,b)   \n"
      ],
      "metadata": {
        "id": "0nUxArKRrYWG",
        "colab": {
          "base_uri": "https://localhost:8080/"
        },
        "outputId": "853f9136-c950-483e-b119-879bce57db81"
      },
      "execution_count": 47,
      "outputs": [
        {
          "output_type": "execute_result",
          "data": {
            "text/plain": [
              "[[33, 36, 39], [75, 82, 89], [117, 128, 139], [159, 174, 189]]"
            ]
          },
          "metadata": {},
          "execution_count": 47
        }
      ]
    },
    {
      "cell_type": "markdown",
      "metadata": {
        "id": "_0FzjI4Li18J"
      },
      "source": [
        "## 30 points - Q4: Top k Frequent Words in a File\n",
        "\n",
        "\n",
        "In the shared assignment folder, you have a file named sherlock.txt which stores the famous book written by Arhurt Conan Doyle.\n",
        "\n",
        "Write a function named top_k_frequent_words which will take a file name as it's parameter and an integer k that is how many frequent words that we are going to return. Function reads the text file and returns the most k frequent words and how many times they have occured in that file. After finding the top_k_frequent_words, report mean, median and std(sample) between their frequencies. \\\\\n",
        "Hint: Remove the symbols such as: [. , ? ! ; : \\n] \\\\\n",
        "Example signature is as follows: (here k=5)\n",
        "\n",
        "```py\n",
        ">>> top_k_frequent_words(\"file_path\",5)\n",
        "\"the\" occured 5704 times\n",
        "\"and\" occured 2939 times\n",
        "\"of\" occured 2762 times\n",
        "\"to\" occured 2733 times\n",
        "\"a\" occured 2651 times\n",
        "mean: 3357.8\n",
        "median: 2762\n",
        "std: 1315.7665826429854\n",
        "```\n",
        "\n",
        "*Do not forget to add the shared file and then mount to your drive. Otherwise, you won't be able to read the file.*"
      ]
    },
    {
      "cell_type": "code",
      "source": [
        "# Your code\n",
        "from os.path import join\n",
        "pathPrefix = \"./drive/My Drive/\"\n",
        "fileName = \"sherlock.txt\"\n",
        "\n",
        "def top_k_frequent_words(fileName,n):\n",
        "  with open(fileName) as myFile:\n",
        "    \n",
        "    \n",
        "    numWord = {}\n",
        "    tempAllWords = myFile.read().lower().strip()\n",
        "    \n",
        "    unwanted = [\".\", \",\", \"?\", \"!\", \";\", \":\"]\n",
        "    for k in unwanted:\n",
        "      tempAllWords = tempAllWords.replace(k,'')\n",
        "\n",
        "    allWords = tempAllWords.split()\n",
        "\n",
        "    \n",
        "\n",
        "    for word in allWords:\n",
        "      if word not in numWord:\n",
        "        numWord[word] = 1\n",
        "      else:\n",
        "        numWord[word] += 1\n",
        "\n",
        "    \n",
        "    sortedNumWord = sorted(numWord.items(), key=lambda item: item[1], reverse=True)\n",
        "    \n",
        "    total = 0\n",
        "    median = 0\n",
        "    if(n%2==0):\n",
        "      median = (sortedNumWord[int(n/2)][1] + sortedNumWord[int((n/2)-1)][1])/2\n",
        "    else:\n",
        "      median = sortedNumWord[int((n-1)/2)][1]\n",
        "\n",
        "    std = 0\n",
        "    for ctr1 in range(n):\n",
        "      print(\"\\\"\", sortedNumWord[ctr1][0], \"\\\"\", \" occured \", sortedNumWord[ctr1][1], \" times\",  sep='')\n",
        "      total += sortedNumWord[ctr1][1]\n",
        "    \n",
        "    mean = total/n\n",
        "    for ctr2 in range(n):\n",
        "      std += pow((mean-sortedNumWord[ctr2][1]),2)    \n",
        "    std = pow((std/(n-1)),0.5)\n",
        "    \n",
        "    print(\"mean:\", mean)\n",
        "    print(\"median:\", median)\n",
        "    print(\"std:\", std)\n",
        "\n",
        "top_k_frequent_words(join(pathPrefix,fileName),5)\n",
        "\n",
        "\n"
      ],
      "metadata": {
        "id": "UQuPrNXLNxNL",
        "colab": {
          "base_uri": "https://localhost:8080/"
        },
        "outputId": "2834a85d-ca3c-4376-9c23-5e093d35d7e0"
      },
      "execution_count": 56,
      "outputs": [
        {
          "output_type": "stream",
          "name": "stdout",
          "text": [
            "\"the\" occured 5704 times\n",
            "\"and\" occured 2939 times\n",
            "\"of\" occured 2762 times\n",
            "\"to\" occured 2733 times\n",
            "\"a\" occured 2652 times\n",
            "mean: 3358.0\n",
            "median: 2762\n",
            "std: 1315.6323574616124\n"
          ]
        }
      ]
    }
  ]
}